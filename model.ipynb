{
 "cells": [
  {
   "cell_type": "code",
   "execution_count": 1,
   "metadata": {},
   "outputs": [],
   "source": [
    "#Data Manipulation\n",
    "import pandas as pd\n",
    "import numpy as np\n",
    "import matplotlib.pyplot as plt\n",
    "import seaborn as sns\n",
    "\n",
    "#Data preprocessing\n",
    "from sklearn.compose import ColumnTransformer\n",
    "from sklearn.preprocessing import LabelEncoder, StandardScaler, OneHotEncoder\n",
    "from sklearn.svm import SVC\n",
    "from sklearn.model_selection import train_test_split\n",
    "from sklearn import metrics\n",
    "\n",
    "#Data Modelling\n",
    "from sklearn.pipeline import Pipeline\n",
    "from sklearn.ensemble import RandomForestClassifier\n",
    "from xgboost import XGBClassifier\n",
    "from sklearn.linear_model import LogisticRegression\n",
    "from imblearn.over_sampling import RandomOverSampler\n",
    "from sklearn.naive_bayes import GaussianNB\n",
    "\n",
    "import warnings\n",
    "warnings.filterwarnings('ignore')"
   ]
  },
  {
   "cell_type": "code",
   "execution_count": 2,
   "metadata": {},
   "outputs": [
    {
     "data": {
      "text/html": [
       "<div>\n",
       "<style scoped>\n",
       "    .dataframe tbody tr th:only-of-type {\n",
       "        vertical-align: middle;\n",
       "    }\n",
       "\n",
       "    .dataframe tbody tr th {\n",
       "        vertical-align: top;\n",
       "    }\n",
       "\n",
       "    .dataframe thead th {\n",
       "        text-align: right;\n",
       "    }\n",
       "</style>\n",
       "<table border=\"1\" class=\"dataframe\">\n",
       "  <thead>\n",
       "    <tr style=\"text-align: right;\">\n",
       "      <th></th>\n",
       "      <th>Case_No</th>\n",
       "      <th>A1</th>\n",
       "      <th>A2</th>\n",
       "      <th>A3</th>\n",
       "      <th>A4</th>\n",
       "      <th>A5</th>\n",
       "      <th>A6</th>\n",
       "      <th>A7</th>\n",
       "      <th>A8</th>\n",
       "      <th>A9</th>\n",
       "      <th>A10</th>\n",
       "      <th>Age_Mons</th>\n",
       "      <th>Qchat-10-Score</th>\n",
       "      <th>Sex</th>\n",
       "      <th>Ethnicity</th>\n",
       "      <th>Jaundice</th>\n",
       "      <th>Family_mem_with_ASD</th>\n",
       "      <th>Who completed the test</th>\n",
       "      <th>Class/ASD Traits</th>\n",
       "    </tr>\n",
       "  </thead>\n",
       "  <tbody>\n",
       "    <tr>\n",
       "      <th>0</th>\n",
       "      <td>1</td>\n",
       "      <td>0</td>\n",
       "      <td>0</td>\n",
       "      <td>0</td>\n",
       "      <td>0</td>\n",
       "      <td>0</td>\n",
       "      <td>0</td>\n",
       "      <td>1</td>\n",
       "      <td>1</td>\n",
       "      <td>0</td>\n",
       "      <td>1</td>\n",
       "      <td>28</td>\n",
       "      <td>3</td>\n",
       "      <td>f</td>\n",
       "      <td>middle eastern</td>\n",
       "      <td>yes</td>\n",
       "      <td>no</td>\n",
       "      <td>family member</td>\n",
       "      <td>No</td>\n",
       "    </tr>\n",
       "    <tr>\n",
       "      <th>1</th>\n",
       "      <td>2</td>\n",
       "      <td>1</td>\n",
       "      <td>1</td>\n",
       "      <td>0</td>\n",
       "      <td>0</td>\n",
       "      <td>0</td>\n",
       "      <td>1</td>\n",
       "      <td>1</td>\n",
       "      <td>0</td>\n",
       "      <td>0</td>\n",
       "      <td>0</td>\n",
       "      <td>36</td>\n",
       "      <td>4</td>\n",
       "      <td>m</td>\n",
       "      <td>White European</td>\n",
       "      <td>yes</td>\n",
       "      <td>no</td>\n",
       "      <td>family member</td>\n",
       "      <td>Yes</td>\n",
       "    </tr>\n",
       "    <tr>\n",
       "      <th>2</th>\n",
       "      <td>3</td>\n",
       "      <td>1</td>\n",
       "      <td>0</td>\n",
       "      <td>0</td>\n",
       "      <td>0</td>\n",
       "      <td>0</td>\n",
       "      <td>0</td>\n",
       "      <td>1</td>\n",
       "      <td>1</td>\n",
       "      <td>0</td>\n",
       "      <td>1</td>\n",
       "      <td>36</td>\n",
       "      <td>4</td>\n",
       "      <td>m</td>\n",
       "      <td>middle eastern</td>\n",
       "      <td>yes</td>\n",
       "      <td>no</td>\n",
       "      <td>family member</td>\n",
       "      <td>Yes</td>\n",
       "    </tr>\n",
       "    <tr>\n",
       "      <th>3</th>\n",
       "      <td>4</td>\n",
       "      <td>1</td>\n",
       "      <td>1</td>\n",
       "      <td>1</td>\n",
       "      <td>1</td>\n",
       "      <td>1</td>\n",
       "      <td>1</td>\n",
       "      <td>1</td>\n",
       "      <td>1</td>\n",
       "      <td>1</td>\n",
       "      <td>1</td>\n",
       "      <td>24</td>\n",
       "      <td>10</td>\n",
       "      <td>m</td>\n",
       "      <td>Hispanic</td>\n",
       "      <td>no</td>\n",
       "      <td>no</td>\n",
       "      <td>family member</td>\n",
       "      <td>Yes</td>\n",
       "    </tr>\n",
       "    <tr>\n",
       "      <th>4</th>\n",
       "      <td>5</td>\n",
       "      <td>1</td>\n",
       "      <td>1</td>\n",
       "      <td>0</td>\n",
       "      <td>1</td>\n",
       "      <td>1</td>\n",
       "      <td>1</td>\n",
       "      <td>1</td>\n",
       "      <td>1</td>\n",
       "      <td>1</td>\n",
       "      <td>1</td>\n",
       "      <td>20</td>\n",
       "      <td>9</td>\n",
       "      <td>f</td>\n",
       "      <td>White European</td>\n",
       "      <td>no</td>\n",
       "      <td>yes</td>\n",
       "      <td>family member</td>\n",
       "      <td>Yes</td>\n",
       "    </tr>\n",
       "    <tr>\n",
       "      <th>...</th>\n",
       "      <td>...</td>\n",
       "      <td>...</td>\n",
       "      <td>...</td>\n",
       "      <td>...</td>\n",
       "      <td>...</td>\n",
       "      <td>...</td>\n",
       "      <td>...</td>\n",
       "      <td>...</td>\n",
       "      <td>...</td>\n",
       "      <td>...</td>\n",
       "      <td>...</td>\n",
       "      <td>...</td>\n",
       "      <td>...</td>\n",
       "      <td>...</td>\n",
       "      <td>...</td>\n",
       "      <td>...</td>\n",
       "      <td>...</td>\n",
       "      <td>...</td>\n",
       "      <td>...</td>\n",
       "    </tr>\n",
       "    <tr>\n",
       "      <th>1049</th>\n",
       "      <td>1050</td>\n",
       "      <td>0</td>\n",
       "      <td>0</td>\n",
       "      <td>0</td>\n",
       "      <td>0</td>\n",
       "      <td>0</td>\n",
       "      <td>0</td>\n",
       "      <td>0</td>\n",
       "      <td>0</td>\n",
       "      <td>0</td>\n",
       "      <td>1</td>\n",
       "      <td>24</td>\n",
       "      <td>1</td>\n",
       "      <td>f</td>\n",
       "      <td>White European</td>\n",
       "      <td>no</td>\n",
       "      <td>yes</td>\n",
       "      <td>family member</td>\n",
       "      <td>No</td>\n",
       "    </tr>\n",
       "    <tr>\n",
       "      <th>1050</th>\n",
       "      <td>1051</td>\n",
       "      <td>0</td>\n",
       "      <td>0</td>\n",
       "      <td>1</td>\n",
       "      <td>1</td>\n",
       "      <td>1</td>\n",
       "      <td>0</td>\n",
       "      <td>1</td>\n",
       "      <td>0</td>\n",
       "      <td>1</td>\n",
       "      <td>0</td>\n",
       "      <td>12</td>\n",
       "      <td>5</td>\n",
       "      <td>m</td>\n",
       "      <td>black</td>\n",
       "      <td>yes</td>\n",
       "      <td>no</td>\n",
       "      <td>family member</td>\n",
       "      <td>Yes</td>\n",
       "    </tr>\n",
       "    <tr>\n",
       "      <th>1051</th>\n",
       "      <td>1052</td>\n",
       "      <td>1</td>\n",
       "      <td>0</td>\n",
       "      <td>1</td>\n",
       "      <td>1</td>\n",
       "      <td>1</td>\n",
       "      <td>1</td>\n",
       "      <td>1</td>\n",
       "      <td>1</td>\n",
       "      <td>1</td>\n",
       "      <td>1</td>\n",
       "      <td>18</td>\n",
       "      <td>9</td>\n",
       "      <td>m</td>\n",
       "      <td>middle eastern</td>\n",
       "      <td>yes</td>\n",
       "      <td>no</td>\n",
       "      <td>family member</td>\n",
       "      <td>Yes</td>\n",
       "    </tr>\n",
       "    <tr>\n",
       "      <th>1052</th>\n",
       "      <td>1053</td>\n",
       "      <td>1</td>\n",
       "      <td>0</td>\n",
       "      <td>0</td>\n",
       "      <td>0</td>\n",
       "      <td>0</td>\n",
       "      <td>0</td>\n",
       "      <td>0</td>\n",
       "      <td>1</td>\n",
       "      <td>0</td>\n",
       "      <td>1</td>\n",
       "      <td>19</td>\n",
       "      <td>3</td>\n",
       "      <td>m</td>\n",
       "      <td>White European</td>\n",
       "      <td>no</td>\n",
       "      <td>yes</td>\n",
       "      <td>family member</td>\n",
       "      <td>No</td>\n",
       "    </tr>\n",
       "    <tr>\n",
       "      <th>1053</th>\n",
       "      <td>1054</td>\n",
       "      <td>1</td>\n",
       "      <td>1</td>\n",
       "      <td>0</td>\n",
       "      <td>0</td>\n",
       "      <td>1</td>\n",
       "      <td>1</td>\n",
       "      <td>0</td>\n",
       "      <td>1</td>\n",
       "      <td>1</td>\n",
       "      <td>0</td>\n",
       "      <td>24</td>\n",
       "      <td>6</td>\n",
       "      <td>m</td>\n",
       "      <td>asian</td>\n",
       "      <td>yes</td>\n",
       "      <td>yes</td>\n",
       "      <td>family member</td>\n",
       "      <td>Yes</td>\n",
       "    </tr>\n",
       "  </tbody>\n",
       "</table>\n",
       "<p>1054 rows × 19 columns</p>\n",
       "</div>"
      ],
      "text/plain": [
       "      Case_No  A1  A2  A3  A4  A5  A6  A7  A8  A9  A10  Age_Mons  \\\n",
       "0           1   0   0   0   0   0   0   1   1   0    1        28   \n",
       "1           2   1   1   0   0   0   1   1   0   0    0        36   \n",
       "2           3   1   0   0   0   0   0   1   1   0    1        36   \n",
       "3           4   1   1   1   1   1   1   1   1   1    1        24   \n",
       "4           5   1   1   0   1   1   1   1   1   1    1        20   \n",
       "...       ...  ..  ..  ..  ..  ..  ..  ..  ..  ..  ...       ...   \n",
       "1049     1050   0   0   0   0   0   0   0   0   0    1        24   \n",
       "1050     1051   0   0   1   1   1   0   1   0   1    0        12   \n",
       "1051     1052   1   0   1   1   1   1   1   1   1    1        18   \n",
       "1052     1053   1   0   0   0   0   0   0   1   0    1        19   \n",
       "1053     1054   1   1   0   0   1   1   0   1   1    0        24   \n",
       "\n",
       "      Qchat-10-Score Sex       Ethnicity Jaundice Family_mem_with_ASD  \\\n",
       "0                  3   f  middle eastern      yes                  no   \n",
       "1                  4   m  White European      yes                  no   \n",
       "2                  4   m  middle eastern      yes                  no   \n",
       "3                 10   m        Hispanic       no                  no   \n",
       "4                  9   f  White European       no                 yes   \n",
       "...              ...  ..             ...      ...                 ...   \n",
       "1049               1   f  White European       no                 yes   \n",
       "1050               5   m           black      yes                  no   \n",
       "1051               9   m  middle eastern      yes                  no   \n",
       "1052               3   m  White European       no                 yes   \n",
       "1053               6   m           asian      yes                 yes   \n",
       "\n",
       "     Who completed the test Class/ASD Traits   \n",
       "0             family member                No  \n",
       "1             family member               Yes  \n",
       "2             family member               Yes  \n",
       "3             family member               Yes  \n",
       "4             family member               Yes  \n",
       "...                     ...               ...  \n",
       "1049          family member                No  \n",
       "1050          family member               Yes  \n",
       "1051          family member               Yes  \n",
       "1052          family member                No  \n",
       "1053          family member               Yes  \n",
       "\n",
       "[1054 rows x 19 columns]"
      ]
     },
     "execution_count": 2,
     "metadata": {},
     "output_type": "execute_result"
    }
   ],
   "source": [
    "df = pd.read_csv('toddler_autism_dataset_july_2018.csv')\n",
    "df"
   ]
  },
  {
   "cell_type": "code",
   "execution_count": 3,
   "metadata": {},
   "outputs": [
    {
     "data": {
      "text/plain": [
       "Index(['Case_No', 'A1', 'A2', 'A3', 'A4', 'A5', 'A6', 'A7', 'A8', 'A9', 'A10',\n",
       "       'Age_Mons', 'Qchat-10-Score', 'Sex', 'Ethnicity', 'Jaundice',\n",
       "       'Family_mem_with_ASD', 'Who completed the test', 'Class/ASD Traits '],\n",
       "      dtype='object')"
      ]
     },
     "execution_count": 3,
     "metadata": {},
     "output_type": "execute_result"
    }
   ],
   "source": [
    "df.columns"
   ]
  },
  {
   "cell_type": "code",
   "execution_count": 4,
   "metadata": {},
   "outputs": [
    {
     "data": {
      "text/html": [
       "<div>\n",
       "<style scoped>\n",
       "    .dataframe tbody tr th:only-of-type {\n",
       "        vertical-align: middle;\n",
       "    }\n",
       "\n",
       "    .dataframe tbody tr th {\n",
       "        vertical-align: top;\n",
       "    }\n",
       "\n",
       "    .dataframe thead th {\n",
       "        text-align: right;\n",
       "    }\n",
       "</style>\n",
       "<table border=\"1\" class=\"dataframe\">\n",
       "  <thead>\n",
       "    <tr style=\"text-align: right;\">\n",
       "      <th></th>\n",
       "      <th>Case_No</th>\n",
       "      <th>A1</th>\n",
       "      <th>A2</th>\n",
       "      <th>A3</th>\n",
       "      <th>A4</th>\n",
       "      <th>A5</th>\n",
       "      <th>A6</th>\n",
       "      <th>A7</th>\n",
       "      <th>A8</th>\n",
       "      <th>A9</th>\n",
       "      <th>A10</th>\n",
       "      <th>Age_Mons</th>\n",
       "      <th>Qchat-10-Score</th>\n",
       "    </tr>\n",
       "  </thead>\n",
       "  <tbody>\n",
       "    <tr>\n",
       "      <th>count</th>\n",
       "      <td>1054.000000</td>\n",
       "      <td>1054.000000</td>\n",
       "      <td>1054.000000</td>\n",
       "      <td>1054.000000</td>\n",
       "      <td>1054.000000</td>\n",
       "      <td>1054.000000</td>\n",
       "      <td>1054.000000</td>\n",
       "      <td>1054.000000</td>\n",
       "      <td>1054.000000</td>\n",
       "      <td>1054.000000</td>\n",
       "      <td>1054.000000</td>\n",
       "      <td>1054.000000</td>\n",
       "      <td>1054.000000</td>\n",
       "    </tr>\n",
       "    <tr>\n",
       "      <th>mean</th>\n",
       "      <td>527.500000</td>\n",
       "      <td>0.563567</td>\n",
       "      <td>0.448767</td>\n",
       "      <td>0.401328</td>\n",
       "      <td>0.512334</td>\n",
       "      <td>0.524668</td>\n",
       "      <td>0.576850</td>\n",
       "      <td>0.649905</td>\n",
       "      <td>0.459203</td>\n",
       "      <td>0.489564</td>\n",
       "      <td>0.586338</td>\n",
       "      <td>27.867173</td>\n",
       "      <td>5.212524</td>\n",
       "    </tr>\n",
       "    <tr>\n",
       "      <th>std</th>\n",
       "      <td>304.407895</td>\n",
       "      <td>0.496178</td>\n",
       "      <td>0.497604</td>\n",
       "      <td>0.490400</td>\n",
       "      <td>0.500085</td>\n",
       "      <td>0.499628</td>\n",
       "      <td>0.494293</td>\n",
       "      <td>0.477226</td>\n",
       "      <td>0.498569</td>\n",
       "      <td>0.500128</td>\n",
       "      <td>0.492723</td>\n",
       "      <td>7.980354</td>\n",
       "      <td>2.907304</td>\n",
       "    </tr>\n",
       "    <tr>\n",
       "      <th>min</th>\n",
       "      <td>1.000000</td>\n",
       "      <td>0.000000</td>\n",
       "      <td>0.000000</td>\n",
       "      <td>0.000000</td>\n",
       "      <td>0.000000</td>\n",
       "      <td>0.000000</td>\n",
       "      <td>0.000000</td>\n",
       "      <td>0.000000</td>\n",
       "      <td>0.000000</td>\n",
       "      <td>0.000000</td>\n",
       "      <td>0.000000</td>\n",
       "      <td>12.000000</td>\n",
       "      <td>0.000000</td>\n",
       "    </tr>\n",
       "    <tr>\n",
       "      <th>25%</th>\n",
       "      <td>264.250000</td>\n",
       "      <td>0.000000</td>\n",
       "      <td>0.000000</td>\n",
       "      <td>0.000000</td>\n",
       "      <td>0.000000</td>\n",
       "      <td>0.000000</td>\n",
       "      <td>0.000000</td>\n",
       "      <td>0.000000</td>\n",
       "      <td>0.000000</td>\n",
       "      <td>0.000000</td>\n",
       "      <td>0.000000</td>\n",
       "      <td>23.000000</td>\n",
       "      <td>3.000000</td>\n",
       "    </tr>\n",
       "    <tr>\n",
       "      <th>50%</th>\n",
       "      <td>527.500000</td>\n",
       "      <td>1.000000</td>\n",
       "      <td>0.000000</td>\n",
       "      <td>0.000000</td>\n",
       "      <td>1.000000</td>\n",
       "      <td>1.000000</td>\n",
       "      <td>1.000000</td>\n",
       "      <td>1.000000</td>\n",
       "      <td>0.000000</td>\n",
       "      <td>0.000000</td>\n",
       "      <td>1.000000</td>\n",
       "      <td>30.000000</td>\n",
       "      <td>5.000000</td>\n",
       "    </tr>\n",
       "    <tr>\n",
       "      <th>75%</th>\n",
       "      <td>790.750000</td>\n",
       "      <td>1.000000</td>\n",
       "      <td>1.000000</td>\n",
       "      <td>1.000000</td>\n",
       "      <td>1.000000</td>\n",
       "      <td>1.000000</td>\n",
       "      <td>1.000000</td>\n",
       "      <td>1.000000</td>\n",
       "      <td>1.000000</td>\n",
       "      <td>1.000000</td>\n",
       "      <td>1.000000</td>\n",
       "      <td>36.000000</td>\n",
       "      <td>8.000000</td>\n",
       "    </tr>\n",
       "    <tr>\n",
       "      <th>max</th>\n",
       "      <td>1054.000000</td>\n",
       "      <td>1.000000</td>\n",
       "      <td>1.000000</td>\n",
       "      <td>1.000000</td>\n",
       "      <td>1.000000</td>\n",
       "      <td>1.000000</td>\n",
       "      <td>1.000000</td>\n",
       "      <td>1.000000</td>\n",
       "      <td>1.000000</td>\n",
       "      <td>1.000000</td>\n",
       "      <td>1.000000</td>\n",
       "      <td>36.000000</td>\n",
       "      <td>10.000000</td>\n",
       "    </tr>\n",
       "  </tbody>\n",
       "</table>\n",
       "</div>"
      ],
      "text/plain": [
       "           Case_No           A1           A2           A3           A4  \\\n",
       "count  1054.000000  1054.000000  1054.000000  1054.000000  1054.000000   \n",
       "mean    527.500000     0.563567     0.448767     0.401328     0.512334   \n",
       "std     304.407895     0.496178     0.497604     0.490400     0.500085   \n",
       "min       1.000000     0.000000     0.000000     0.000000     0.000000   \n",
       "25%     264.250000     0.000000     0.000000     0.000000     0.000000   \n",
       "50%     527.500000     1.000000     0.000000     0.000000     1.000000   \n",
       "75%     790.750000     1.000000     1.000000     1.000000     1.000000   \n",
       "max    1054.000000     1.000000     1.000000     1.000000     1.000000   \n",
       "\n",
       "                A5           A6           A7           A8           A9  \\\n",
       "count  1054.000000  1054.000000  1054.000000  1054.000000  1054.000000   \n",
       "mean      0.524668     0.576850     0.649905     0.459203     0.489564   \n",
       "std       0.499628     0.494293     0.477226     0.498569     0.500128   \n",
       "min       0.000000     0.000000     0.000000     0.000000     0.000000   \n",
       "25%       0.000000     0.000000     0.000000     0.000000     0.000000   \n",
       "50%       1.000000     1.000000     1.000000     0.000000     0.000000   \n",
       "75%       1.000000     1.000000     1.000000     1.000000     1.000000   \n",
       "max       1.000000     1.000000     1.000000     1.000000     1.000000   \n",
       "\n",
       "               A10     Age_Mons  Qchat-10-Score  \n",
       "count  1054.000000  1054.000000     1054.000000  \n",
       "mean      0.586338    27.867173        5.212524  \n",
       "std       0.492723     7.980354        2.907304  \n",
       "min       0.000000    12.000000        0.000000  \n",
       "25%       0.000000    23.000000        3.000000  \n",
       "50%       1.000000    30.000000        5.000000  \n",
       "75%       1.000000    36.000000        8.000000  \n",
       "max       1.000000    36.000000       10.000000  "
      ]
     },
     "execution_count": 4,
     "metadata": {},
     "output_type": "execute_result"
    }
   ],
   "source": [
    "df.describe()"
   ]
  },
  {
   "cell_type": "markdown",
   "metadata": {},
   "source": [
    "Inference from the data description\n",
    "\n",
    "* The maximum age in months is 27 months which implies that toddler dataset has no outliers in the age column\n",
    "* Likewise the min value, the dataset does not have any lower outlier"
   ]
  },
  {
   "cell_type": "code",
   "execution_count": 5,
   "metadata": {},
   "outputs": [
    {
     "name": "stdout",
     "output_type": "stream",
     "text": [
      "<class 'pandas.core.frame.DataFrame'>\n",
      "RangeIndex: 1054 entries, 0 to 1053\n",
      "Data columns (total 19 columns):\n",
      " #   Column                  Non-Null Count  Dtype \n",
      "---  ------                  --------------  ----- \n",
      " 0   Case_No                 1054 non-null   int64 \n",
      " 1   A1                      1054 non-null   int64 \n",
      " 2   A2                      1054 non-null   int64 \n",
      " 3   A3                      1054 non-null   int64 \n",
      " 4   A4                      1054 non-null   int64 \n",
      " 5   A5                      1054 non-null   int64 \n",
      " 6   A6                      1054 non-null   int64 \n",
      " 7   A7                      1054 non-null   int64 \n",
      " 8   A8                      1054 non-null   int64 \n",
      " 9   A9                      1054 non-null   int64 \n",
      " 10  A10                     1054 non-null   int64 \n",
      " 11  Age_Mons                1054 non-null   int64 \n",
      " 12  Qchat-10-Score          1054 non-null   int64 \n",
      " 13  Sex                     1054 non-null   object\n",
      " 14  Ethnicity               1054 non-null   object\n",
      " 15  Jaundice                1054 non-null   object\n",
      " 16  Family_mem_with_ASD     1054 non-null   object\n",
      " 17  Who completed the test  1054 non-null   object\n",
      " 18  Class/ASD Traits        1054 non-null   object\n",
      "dtypes: int64(13), object(6)\n",
      "memory usage: 156.6+ KB\n"
     ]
    }
   ],
   "source": [
    "df.info()"
   ]
  },
  {
   "cell_type": "code",
   "execution_count": 6,
   "metadata": {},
   "outputs": [
    {
     "data": {
      "text/plain": [
       "(1054, 19)"
      ]
     },
     "execution_count": 6,
     "metadata": {},
     "output_type": "execute_result"
    }
   ],
   "source": [
    "df.shape"
   ]
  },
  {
   "cell_type": "code",
   "execution_count": 7,
   "metadata": {},
   "outputs": [
    {
     "data": {
      "text/plain": [
       "Case_No                   0\n",
       "A1                        0\n",
       "A2                        0\n",
       "A3                        0\n",
       "A4                        0\n",
       "A5                        0\n",
       "A6                        0\n",
       "A7                        0\n",
       "A8                        0\n",
       "A9                        0\n",
       "A10                       0\n",
       "Age_Mons                  0\n",
       "Qchat-10-Score            0\n",
       "Sex                       0\n",
       "Ethnicity                 0\n",
       "Jaundice                  0\n",
       "Family_mem_with_ASD       0\n",
       "Who completed the test    0\n",
       "Class/ASD Traits          0\n",
       "dtype: int64"
      ]
     },
     "execution_count": 7,
     "metadata": {},
     "output_type": "execute_result"
    }
   ],
   "source": [
    "df.isna().sum()"
   ]
  },
  {
   "cell_type": "markdown",
   "metadata": {},
   "source": [
    "The dataset contains no missing values"
   ]
  },
  {
   "cell_type": "code",
   "execution_count": 8,
   "metadata": {},
   "outputs": [
    {
     "data": {
      "text/plain": [
       "np.False_"
      ]
     },
     "execution_count": 8,
     "metadata": {},
     "output_type": "execute_result"
    }
   ],
   "source": [
    "df.duplicated().any()"
   ]
  },
  {
   "cell_type": "markdown",
   "metadata": {},
   "source": [
    "The dataset also does not contain any duplicated rows"
   ]
  },
  {
   "cell_type": "markdown",
   "metadata": {},
   "source": [
    "---\n",
    "> A new column (Age in years) is created from the age in months column for clearity"
   ]
  },
  {
   "cell_type": "code",
   "execution_count": 9,
   "metadata": {},
   "outputs": [],
   "source": [
    "df['Age'] = df['Age_Mons'] // 12\n",
    "df.drop('Age_Mons',axis=1,  inplace=True)"
   ]
  },
  {
   "cell_type": "code",
   "execution_count": 10,
   "metadata": {},
   "outputs": [
    {
     "data": {
      "text/html": [
       "<div>\n",
       "<style scoped>\n",
       "    .dataframe tbody tr th:only-of-type {\n",
       "        vertical-align: middle;\n",
       "    }\n",
       "\n",
       "    .dataframe tbody tr th {\n",
       "        vertical-align: top;\n",
       "    }\n",
       "\n",
       "    .dataframe thead th {\n",
       "        text-align: right;\n",
       "    }\n",
       "</style>\n",
       "<table border=\"1\" class=\"dataframe\">\n",
       "  <thead>\n",
       "    <tr style=\"text-align: right;\">\n",
       "      <th></th>\n",
       "      <th>Case_No</th>\n",
       "      <th>A1</th>\n",
       "      <th>A2</th>\n",
       "      <th>A3</th>\n",
       "      <th>A4</th>\n",
       "      <th>A5</th>\n",
       "      <th>A6</th>\n",
       "      <th>A7</th>\n",
       "      <th>A8</th>\n",
       "      <th>A9</th>\n",
       "      <th>A10</th>\n",
       "      <th>Qchat-10-Score</th>\n",
       "      <th>Sex</th>\n",
       "      <th>Ethnicity</th>\n",
       "      <th>Jaundice</th>\n",
       "      <th>Family_mem_with_ASD</th>\n",
       "      <th>Who completed the test</th>\n",
       "      <th>Class/ASD Traits</th>\n",
       "      <th>Age</th>\n",
       "    </tr>\n",
       "  </thead>\n",
       "  <tbody>\n",
       "    <tr>\n",
       "      <th>0</th>\n",
       "      <td>1</td>\n",
       "      <td>0</td>\n",
       "      <td>0</td>\n",
       "      <td>0</td>\n",
       "      <td>0</td>\n",
       "      <td>0</td>\n",
       "      <td>0</td>\n",
       "      <td>1</td>\n",
       "      <td>1</td>\n",
       "      <td>0</td>\n",
       "      <td>1</td>\n",
       "      <td>3</td>\n",
       "      <td>f</td>\n",
       "      <td>middle eastern</td>\n",
       "      <td>yes</td>\n",
       "      <td>no</td>\n",
       "      <td>family member</td>\n",
       "      <td>No</td>\n",
       "      <td>2</td>\n",
       "    </tr>\n",
       "    <tr>\n",
       "      <th>1</th>\n",
       "      <td>2</td>\n",
       "      <td>1</td>\n",
       "      <td>1</td>\n",
       "      <td>0</td>\n",
       "      <td>0</td>\n",
       "      <td>0</td>\n",
       "      <td>1</td>\n",
       "      <td>1</td>\n",
       "      <td>0</td>\n",
       "      <td>0</td>\n",
       "      <td>0</td>\n",
       "      <td>4</td>\n",
       "      <td>m</td>\n",
       "      <td>White European</td>\n",
       "      <td>yes</td>\n",
       "      <td>no</td>\n",
       "      <td>family member</td>\n",
       "      <td>Yes</td>\n",
       "      <td>3</td>\n",
       "    </tr>\n",
       "    <tr>\n",
       "      <th>2</th>\n",
       "      <td>3</td>\n",
       "      <td>1</td>\n",
       "      <td>0</td>\n",
       "      <td>0</td>\n",
       "      <td>0</td>\n",
       "      <td>0</td>\n",
       "      <td>0</td>\n",
       "      <td>1</td>\n",
       "      <td>1</td>\n",
       "      <td>0</td>\n",
       "      <td>1</td>\n",
       "      <td>4</td>\n",
       "      <td>m</td>\n",
       "      <td>middle eastern</td>\n",
       "      <td>yes</td>\n",
       "      <td>no</td>\n",
       "      <td>family member</td>\n",
       "      <td>Yes</td>\n",
       "      <td>3</td>\n",
       "    </tr>\n",
       "    <tr>\n",
       "      <th>3</th>\n",
       "      <td>4</td>\n",
       "      <td>1</td>\n",
       "      <td>1</td>\n",
       "      <td>1</td>\n",
       "      <td>1</td>\n",
       "      <td>1</td>\n",
       "      <td>1</td>\n",
       "      <td>1</td>\n",
       "      <td>1</td>\n",
       "      <td>1</td>\n",
       "      <td>1</td>\n",
       "      <td>10</td>\n",
       "      <td>m</td>\n",
       "      <td>Hispanic</td>\n",
       "      <td>no</td>\n",
       "      <td>no</td>\n",
       "      <td>family member</td>\n",
       "      <td>Yes</td>\n",
       "      <td>2</td>\n",
       "    </tr>\n",
       "    <tr>\n",
       "      <th>4</th>\n",
       "      <td>5</td>\n",
       "      <td>1</td>\n",
       "      <td>1</td>\n",
       "      <td>0</td>\n",
       "      <td>1</td>\n",
       "      <td>1</td>\n",
       "      <td>1</td>\n",
       "      <td>1</td>\n",
       "      <td>1</td>\n",
       "      <td>1</td>\n",
       "      <td>1</td>\n",
       "      <td>9</td>\n",
       "      <td>f</td>\n",
       "      <td>White European</td>\n",
       "      <td>no</td>\n",
       "      <td>yes</td>\n",
       "      <td>family member</td>\n",
       "      <td>Yes</td>\n",
       "      <td>1</td>\n",
       "    </tr>\n",
       "    <tr>\n",
       "      <th>...</th>\n",
       "      <td>...</td>\n",
       "      <td>...</td>\n",
       "      <td>...</td>\n",
       "      <td>...</td>\n",
       "      <td>...</td>\n",
       "      <td>...</td>\n",
       "      <td>...</td>\n",
       "      <td>...</td>\n",
       "      <td>...</td>\n",
       "      <td>...</td>\n",
       "      <td>...</td>\n",
       "      <td>...</td>\n",
       "      <td>...</td>\n",
       "      <td>...</td>\n",
       "      <td>...</td>\n",
       "      <td>...</td>\n",
       "      <td>...</td>\n",
       "      <td>...</td>\n",
       "      <td>...</td>\n",
       "    </tr>\n",
       "    <tr>\n",
       "      <th>1049</th>\n",
       "      <td>1050</td>\n",
       "      <td>0</td>\n",
       "      <td>0</td>\n",
       "      <td>0</td>\n",
       "      <td>0</td>\n",
       "      <td>0</td>\n",
       "      <td>0</td>\n",
       "      <td>0</td>\n",
       "      <td>0</td>\n",
       "      <td>0</td>\n",
       "      <td>1</td>\n",
       "      <td>1</td>\n",
       "      <td>f</td>\n",
       "      <td>White European</td>\n",
       "      <td>no</td>\n",
       "      <td>yes</td>\n",
       "      <td>family member</td>\n",
       "      <td>No</td>\n",
       "      <td>2</td>\n",
       "    </tr>\n",
       "    <tr>\n",
       "      <th>1050</th>\n",
       "      <td>1051</td>\n",
       "      <td>0</td>\n",
       "      <td>0</td>\n",
       "      <td>1</td>\n",
       "      <td>1</td>\n",
       "      <td>1</td>\n",
       "      <td>0</td>\n",
       "      <td>1</td>\n",
       "      <td>0</td>\n",
       "      <td>1</td>\n",
       "      <td>0</td>\n",
       "      <td>5</td>\n",
       "      <td>m</td>\n",
       "      <td>black</td>\n",
       "      <td>yes</td>\n",
       "      <td>no</td>\n",
       "      <td>family member</td>\n",
       "      <td>Yes</td>\n",
       "      <td>1</td>\n",
       "    </tr>\n",
       "    <tr>\n",
       "      <th>1051</th>\n",
       "      <td>1052</td>\n",
       "      <td>1</td>\n",
       "      <td>0</td>\n",
       "      <td>1</td>\n",
       "      <td>1</td>\n",
       "      <td>1</td>\n",
       "      <td>1</td>\n",
       "      <td>1</td>\n",
       "      <td>1</td>\n",
       "      <td>1</td>\n",
       "      <td>1</td>\n",
       "      <td>9</td>\n",
       "      <td>m</td>\n",
       "      <td>middle eastern</td>\n",
       "      <td>yes</td>\n",
       "      <td>no</td>\n",
       "      <td>family member</td>\n",
       "      <td>Yes</td>\n",
       "      <td>1</td>\n",
       "    </tr>\n",
       "    <tr>\n",
       "      <th>1052</th>\n",
       "      <td>1053</td>\n",
       "      <td>1</td>\n",
       "      <td>0</td>\n",
       "      <td>0</td>\n",
       "      <td>0</td>\n",
       "      <td>0</td>\n",
       "      <td>0</td>\n",
       "      <td>0</td>\n",
       "      <td>1</td>\n",
       "      <td>0</td>\n",
       "      <td>1</td>\n",
       "      <td>3</td>\n",
       "      <td>m</td>\n",
       "      <td>White European</td>\n",
       "      <td>no</td>\n",
       "      <td>yes</td>\n",
       "      <td>family member</td>\n",
       "      <td>No</td>\n",
       "      <td>1</td>\n",
       "    </tr>\n",
       "    <tr>\n",
       "      <th>1053</th>\n",
       "      <td>1054</td>\n",
       "      <td>1</td>\n",
       "      <td>1</td>\n",
       "      <td>0</td>\n",
       "      <td>0</td>\n",
       "      <td>1</td>\n",
       "      <td>1</td>\n",
       "      <td>0</td>\n",
       "      <td>1</td>\n",
       "      <td>1</td>\n",
       "      <td>0</td>\n",
       "      <td>6</td>\n",
       "      <td>m</td>\n",
       "      <td>asian</td>\n",
       "      <td>yes</td>\n",
       "      <td>yes</td>\n",
       "      <td>family member</td>\n",
       "      <td>Yes</td>\n",
       "      <td>2</td>\n",
       "    </tr>\n",
       "  </tbody>\n",
       "</table>\n",
       "<p>1054 rows × 19 columns</p>\n",
       "</div>"
      ],
      "text/plain": [
       "      Case_No  A1  A2  A3  A4  A5  A6  A7  A8  A9  A10  Qchat-10-Score Sex  \\\n",
       "0           1   0   0   0   0   0   0   1   1   0    1               3   f   \n",
       "1           2   1   1   0   0   0   1   1   0   0    0               4   m   \n",
       "2           3   1   0   0   0   0   0   1   1   0    1               4   m   \n",
       "3           4   1   1   1   1   1   1   1   1   1    1              10   m   \n",
       "4           5   1   1   0   1   1   1   1   1   1    1               9   f   \n",
       "...       ...  ..  ..  ..  ..  ..  ..  ..  ..  ..  ...             ...  ..   \n",
       "1049     1050   0   0   0   0   0   0   0   0   0    1               1   f   \n",
       "1050     1051   0   0   1   1   1   0   1   0   1    0               5   m   \n",
       "1051     1052   1   0   1   1   1   1   1   1   1    1               9   m   \n",
       "1052     1053   1   0   0   0   0   0   0   1   0    1               3   m   \n",
       "1053     1054   1   1   0   0   1   1   0   1   1    0               6   m   \n",
       "\n",
       "           Ethnicity Jaundice Family_mem_with_ASD Who completed the test  \\\n",
       "0     middle eastern      yes                  no          family member   \n",
       "1     White European      yes                  no          family member   \n",
       "2     middle eastern      yes                  no          family member   \n",
       "3           Hispanic       no                  no          family member   \n",
       "4     White European       no                 yes          family member   \n",
       "...              ...      ...                 ...                    ...   \n",
       "1049  White European       no                 yes          family member   \n",
       "1050           black      yes                  no          family member   \n",
       "1051  middle eastern      yes                  no          family member   \n",
       "1052  White European       no                 yes          family member   \n",
       "1053           asian      yes                 yes          family member   \n",
       "\n",
       "     Class/ASD Traits   Age  \n",
       "0                   No    2  \n",
       "1                  Yes    3  \n",
       "2                  Yes    3  \n",
       "3                  Yes    2  \n",
       "4                  Yes    1  \n",
       "...                ...  ...  \n",
       "1049                No    2  \n",
       "1050               Yes    1  \n",
       "1051               Yes    1  \n",
       "1052                No    1  \n",
       "1053               Yes    2  \n",
       "\n",
       "[1054 rows x 19 columns]"
      ]
     },
     "execution_count": 10,
     "metadata": {},
     "output_type": "execute_result"
    }
   ],
   "source": [
    "df"
   ]
  },
  {
   "cell_type": "markdown",
   "metadata": {},
   "source": [
    "#### **DATA ANALYSIS**"
   ]
  },
  {
   "cell_type": "code",
   "execution_count": 11,
   "metadata": {},
   "outputs": [
    {
     "data": {
      "text/plain": [
       "Ethnicity\n",
       "White European    334\n",
       "asian             299\n",
       "middle eastern    188\n",
       "south asian        60\n",
       "black              53\n",
       "Hispanic           40\n",
       "Others             35\n",
       "Latino             26\n",
       "mixed               8\n",
       "Pacifica            8\n",
       "Native Indian       3\n",
       "Name: count, dtype: int64"
      ]
     },
     "execution_count": 11,
     "metadata": {},
     "output_type": "execute_result"
    }
   ],
   "source": [
    "df.Ethnicity.value_counts()"
   ]
  },
  {
   "cell_type": "code",
   "execution_count": 12,
   "metadata": {},
   "outputs": [
    {
     "data": {
      "text/plain": [
       "Family_mem_with_ASD\n",
       "no     884\n",
       "yes    170\n",
       "Name: count, dtype: int64"
      ]
     },
     "execution_count": 12,
     "metadata": {},
     "output_type": "execute_result"
    }
   ],
   "source": [
    "df.Family_mem_with_ASD.value_counts()"
   ]
  },
  {
   "cell_type": "code",
   "execution_count": 13,
   "metadata": {},
   "outputs": [
    {
     "data": {
      "text/plain": [
       "Who completed the test\n",
       "family member               1018\n",
       "Health Care Professional      24\n",
       "Health care professional       5\n",
       "Self                           4\n",
       "Others                         3\n",
       "Name: count, dtype: int64"
      ]
     },
     "execution_count": 13,
     "metadata": {},
     "output_type": "execute_result"
    }
   ],
   "source": [
    "df['Who completed the test'].value_counts()"
   ]
  },
  {
   "cell_type": "markdown",
   "metadata": {},
   "source": [
    "From the above cell, we observe some discrepancies in the Who completed the test column\n",
    "The issue is corrected thus"
   ]
  },
  {
   "cell_type": "code",
   "execution_count": 14,
   "metadata": {},
   "outputs": [
    {
     "data": {
      "text/plain": [
       "Who completed the test\n",
       "family member               1018\n",
       "Health Care Professional      29\n",
       "Self                           4\n",
       "Others                         3\n",
       "Name: count, dtype: int64"
      ]
     },
     "execution_count": 14,
     "metadata": {},
     "output_type": "execute_result"
    }
   ],
   "source": [
    "df['Who completed the test'] = df['Who completed the test'].replace('Health care professional', 'Health Care Professional')\n",
    "df['Who completed the test'].value_counts()"
   ]
  },
  {
   "cell_type": "code",
   "execution_count": 15,
   "metadata": {},
   "outputs": [
    {
     "data": {
      "text/plain": [
       "Index(['Case_No', 'A1', 'A2', 'A3', 'A4', 'A5', 'A6', 'A7', 'A8', 'A9', 'A10',\n",
       "       'Qchat-10-Score', 'Sex', 'Ethnicity', 'Jaundice', 'Family_mem_with_ASD',\n",
       "       'Who completed the test', 'Class/ASD Traits ', 'Age'],\n",
       "      dtype='object')"
      ]
     },
     "execution_count": 15,
     "metadata": {},
     "output_type": "execute_result"
    }
   ],
   "source": [
    "df.columns"
   ]
  },
  {
   "cell_type": "code",
   "execution_count": 16,
   "metadata": {},
   "outputs": [
    {
     "name": "stdout",
     "output_type": "stream",
     "text": [
      "Class/ASD Traits \n",
      "Yes    728\n",
      "No     326\n",
      "Name: count, dtype: int64\n"
     ]
    },
    {
     "data": {
      "image/png": "[encoded data removed]",
      "text/plain": [
       "<Figure size 640x480 with 1 Axes>"
      ]
     },
     "metadata": {},
     "output_type": "display_data"
    }
   ],
   "source": [
    "df['Class/ASD Traits '].value_counts().plot(kind='pie', autopct='%.2f')\n",
    "plt.title('DISTRIBUTION OF THE OUTCOME (%)', color='blue')\n",
    "\n",
    "print(df['Class/ASD Traits '].value_counts())"
   ]
  },
  {
   "cell_type": "markdown",
   "metadata": {},
   "source": [
    "We can observe that the dataset is skewed or imbalanced.\n",
    "The dataset would be balanced later in the program"
   ]
  },
  {
   "cell_type": "markdown",
   "metadata": {},
   "source": [
    "#### **FEATURE ENGINEERING**"
   ]
  },
  {
   "cell_type": "code",
   "execution_count": 17,
   "metadata": {},
   "outputs": [
    {
     "data": {
      "text/html": [
       "<div>\n",
       "<style scoped>\n",
       "    .dataframe tbody tr th:only-of-type {\n",
       "        vertical-align: middle;\n",
       "    }\n",
       "\n",
       "    .dataframe tbody tr th {\n",
       "        vertical-align: top;\n",
       "    }\n",
       "\n",
       "    .dataframe thead th {\n",
       "        text-align: right;\n",
       "    }\n",
       "</style>\n",
       "<table border=\"1\" class=\"dataframe\">\n",
       "  <thead>\n",
       "    <tr style=\"text-align: right;\">\n",
       "      <th></th>\n",
       "      <th>Case_No</th>\n",
       "      <th>A1</th>\n",
       "      <th>A2</th>\n",
       "      <th>A3</th>\n",
       "      <th>A4</th>\n",
       "      <th>A5</th>\n",
       "      <th>A6</th>\n",
       "      <th>A7</th>\n",
       "      <th>A8</th>\n",
       "      <th>A9</th>\n",
       "      <th>A10</th>\n",
       "      <th>Qchat-10-Score</th>\n",
       "      <th>Sex</th>\n",
       "      <th>Ethnicity</th>\n",
       "      <th>Jaundice</th>\n",
       "      <th>Family_mem_with_ASD</th>\n",
       "      <th>Who completed the test</th>\n",
       "      <th>Class/ASD Traits</th>\n",
       "      <th>Age</th>\n",
       "    </tr>\n",
       "  </thead>\n",
       "  <tbody>\n",
       "    <tr>\n",
       "      <th>0</th>\n",
       "      <td>1</td>\n",
       "      <td>0</td>\n",
       "      <td>0</td>\n",
       "      <td>0</td>\n",
       "      <td>0</td>\n",
       "      <td>0</td>\n",
       "      <td>0</td>\n",
       "      <td>1</td>\n",
       "      <td>1</td>\n",
       "      <td>0</td>\n",
       "      <td>1</td>\n",
       "      <td>3</td>\n",
       "      <td>f</td>\n",
       "      <td>middle eastern</td>\n",
       "      <td>yes</td>\n",
       "      <td>no</td>\n",
       "      <td>family member</td>\n",
       "      <td>No</td>\n",
       "      <td>2</td>\n",
       "    </tr>\n",
       "    <tr>\n",
       "      <th>1</th>\n",
       "      <td>2</td>\n",
       "      <td>1</td>\n",
       "      <td>1</td>\n",
       "      <td>0</td>\n",
       "      <td>0</td>\n",
       "      <td>0</td>\n",
       "      <td>1</td>\n",
       "      <td>1</td>\n",
       "      <td>0</td>\n",
       "      <td>0</td>\n",
       "      <td>0</td>\n",
       "      <td>4</td>\n",
       "      <td>m</td>\n",
       "      <td>White European</td>\n",
       "      <td>yes</td>\n",
       "      <td>no</td>\n",
       "      <td>family member</td>\n",
       "      <td>Yes</td>\n",
       "      <td>3</td>\n",
       "    </tr>\n",
       "    <tr>\n",
       "      <th>2</th>\n",
       "      <td>3</td>\n",
       "      <td>1</td>\n",
       "      <td>0</td>\n",
       "      <td>0</td>\n",
       "      <td>0</td>\n",
       "      <td>0</td>\n",
       "      <td>0</td>\n",
       "      <td>1</td>\n",
       "      <td>1</td>\n",
       "      <td>0</td>\n",
       "      <td>1</td>\n",
       "      <td>4</td>\n",
       "      <td>m</td>\n",
       "      <td>middle eastern</td>\n",
       "      <td>yes</td>\n",
       "      <td>no</td>\n",
       "      <td>family member</td>\n",
       "      <td>Yes</td>\n",
       "      <td>3</td>\n",
       "    </tr>\n",
       "    <tr>\n",
       "      <th>3</th>\n",
       "      <td>4</td>\n",
       "      <td>1</td>\n",
       "      <td>1</td>\n",
       "      <td>1</td>\n",
       "      <td>1</td>\n",
       "      <td>1</td>\n",
       "      <td>1</td>\n",
       "      <td>1</td>\n",
       "      <td>1</td>\n",
       "      <td>1</td>\n",
       "      <td>1</td>\n",
       "      <td>10</td>\n",
       "      <td>m</td>\n",
       "      <td>Hispanic</td>\n",
       "      <td>no</td>\n",
       "      <td>no</td>\n",
       "      <td>family member</td>\n",
       "      <td>Yes</td>\n",
       "      <td>2</td>\n",
       "    </tr>\n",
       "    <tr>\n",
       "      <th>4</th>\n",
       "      <td>5</td>\n",
       "      <td>1</td>\n",
       "      <td>1</td>\n",
       "      <td>0</td>\n",
       "      <td>1</td>\n",
       "      <td>1</td>\n",
       "      <td>1</td>\n",
       "      <td>1</td>\n",
       "      <td>1</td>\n",
       "      <td>1</td>\n",
       "      <td>1</td>\n",
       "      <td>9</td>\n",
       "      <td>f</td>\n",
       "      <td>White European</td>\n",
       "      <td>no</td>\n",
       "      <td>yes</td>\n",
       "      <td>family member</td>\n",
       "      <td>Yes</td>\n",
       "      <td>1</td>\n",
       "    </tr>\n",
       "  </tbody>\n",
       "</table>\n",
       "</div>"
      ],
      "text/plain": [
       "   Case_No  A1  A2  A3  A4  A5  A6  A7  A8  A9  A10  Qchat-10-Score Sex  \\\n",
       "0        1   0   0   0   0   0   0   1   1   0    1               3   f   \n",
       "1        2   1   1   0   0   0   1   1   0   0    0               4   m   \n",
       "2        3   1   0   0   0   0   0   1   1   0    1               4   m   \n",
       "3        4   1   1   1   1   1   1   1   1   1    1              10   m   \n",
       "4        5   1   1   0   1   1   1   1   1   1    1               9   f   \n",
       "\n",
       "        Ethnicity Jaundice Family_mem_with_ASD Who completed the test  \\\n",
       "0  middle eastern      yes                  no          family member   \n",
       "1  White European      yes                  no          family member   \n",
       "2  middle eastern      yes                  no          family member   \n",
       "3        Hispanic       no                  no          family member   \n",
       "4  White European       no                 yes          family member   \n",
       "\n",
       "  Class/ASD Traits   Age  \n",
       "0                No    2  \n",
       "1               Yes    3  \n",
       "2               Yes    3  \n",
       "3               Yes    2  \n",
       "4               Yes    1  "
      ]
     },
     "execution_count": 17,
     "metadata": {},
     "output_type": "execute_result"
    }
   ],
   "source": [
    "df.head()"
   ]
  },
  {
   "cell_type": "markdown",
   "metadata": {},
   "source": [
    "---\n",
    "> The the categorical columns are encoded so the mdoel can the understand the data let’s convert ‘yes’ and ‘no’ to 0 and 1"
   ]
  },
  {
   "cell_type": "code",
   "execution_count": 18,
   "metadata": {},
   "outputs": [],
   "source": [
    "df = df.replace({'Yes':1, 'No':0, 'yes':1, 'no':0})"
   ]
  },
  {
   "cell_type": "markdown",
   "metadata": {},
   "source": [
    "Next, we categorize the column names into their various data types for easier computation"
   ]
  },
  {
   "cell_type": "code",
   "execution_count": 19,
   "metadata": {},
   "outputs": [],
   "source": [
    "ints = []\n",
    "objects = []\n",
    "floats = []\n",
    " \n",
    "for col in df.columns:\n",
    "  if df[col].dtype == int:\n",
    "    ints.append(col)\n",
    "  elif df[col].dtype == object:\n",
    "    objects.append(col)\n",
    "  else:\n",
    "    floats.append(col)"
   ]
  },
  {
   "cell_type": "code",
   "execution_count": 20,
   "metadata": {},
   "outputs": [
    {
     "data": {
      "text/plain": [
       "{'Case_No': dtype('int64'),\n",
       " 'A1': dtype('int64'),\n",
       " 'A2': dtype('int64'),\n",
       " 'A3': dtype('int64'),\n",
       " 'A4': dtype('int64'),\n",
       " 'A5': dtype('int64'),\n",
       " 'A6': dtype('int64'),\n",
       " 'A7': dtype('int64'),\n",
       " 'A8': dtype('int64'),\n",
       " 'A9': dtype('int64'),\n",
       " 'A10': dtype('int64'),\n",
       " 'Qchat-10-Score': dtype('int64'),\n",
       " 'Sex': dtype('O'),\n",
       " 'Ethnicity': dtype('O'),\n",
       " 'Jaundice': dtype('int64'),\n",
       " 'Family_mem_with_ASD': dtype('int64'),\n",
       " 'Who completed the test': dtype('O'),\n",
       " 'Class/ASD Traits ': dtype('int64'),\n",
       " 'Age': dtype('int64')}"
      ]
     },
     "execution_count": 20,
     "metadata": {},
     "output_type": "execute_result"
    }
   ],
   "source": [
    "type = {}\n",
    "for col in df.columns:\n",
    "    type[col] = df[col].dtype\n",
    "type"
   ]
  },
  {
   "cell_type": "code",
   "execution_count": 21,
   "metadata": {},
   "outputs": [],
   "source": [
    "ints.remove('Case_No')\n",
    "ints.remove('Class/ASD Traits ')"
   ]
  },
  {
   "cell_type": "markdown",
   "metadata": {},
   "source": [
    "The Case_No is a unique ID for each record. In this case, it doesnt affect the outcome hence they are both removed"
   ]
  },
  {
   "cell_type": "code",
   "execution_count": 22,
   "metadata": {},
   "outputs": [
    {
     "data": {
      "text/html": [
       "<div>\n",
       "<style scoped>\n",
       "    .dataframe tbody tr th:only-of-type {\n",
       "        vertical-align: middle;\n",
       "    }\n",
       "\n",
       "    .dataframe tbody tr th {\n",
       "        vertical-align: top;\n",
       "    }\n",
       "\n",
       "    .dataframe thead th {\n",
       "        text-align: right;\n",
       "    }\n",
       "</style>\n",
       "<table border=\"1\" class=\"dataframe\">\n",
       "  <thead>\n",
       "    <tr style=\"text-align: right;\">\n",
       "      <th></th>\n",
       "      <th>Case_No</th>\n",
       "      <th>A1</th>\n",
       "      <th>A2</th>\n",
       "      <th>A3</th>\n",
       "      <th>A4</th>\n",
       "      <th>A5</th>\n",
       "      <th>A6</th>\n",
       "      <th>A7</th>\n",
       "      <th>A8</th>\n",
       "      <th>A9</th>\n",
       "      <th>A10</th>\n",
       "      <th>Qchat-10-Score</th>\n",
       "      <th>Sex</th>\n",
       "      <th>Ethnicity</th>\n",
       "      <th>Jaundice</th>\n",
       "      <th>Family_mem_with_ASD</th>\n",
       "      <th>Who completed the test</th>\n",
       "      <th>Class/ASD Traits</th>\n",
       "      <th>Age</th>\n",
       "    </tr>\n",
       "  </thead>\n",
       "  <tbody>\n",
       "    <tr>\n",
       "      <th>0</th>\n",
       "      <td>1</td>\n",
       "      <td>0</td>\n",
       "      <td>0</td>\n",
       "      <td>0</td>\n",
       "      <td>0</td>\n",
       "      <td>0</td>\n",
       "      <td>0</td>\n",
       "      <td>1</td>\n",
       "      <td>1</td>\n",
       "      <td>0</td>\n",
       "      <td>1</td>\n",
       "      <td>3</td>\n",
       "      <td>f</td>\n",
       "      <td>middle eastern</td>\n",
       "      <td>1</td>\n",
       "      <td>0</td>\n",
       "      <td>family member</td>\n",
       "      <td>0</td>\n",
       "      <td>2</td>\n",
       "    </tr>\n",
       "    <tr>\n",
       "      <th>1</th>\n",
       "      <td>2</td>\n",
       "      <td>1</td>\n",
       "      <td>1</td>\n",
       "      <td>0</td>\n",
       "      <td>0</td>\n",
       "      <td>0</td>\n",
       "      <td>1</td>\n",
       "      <td>1</td>\n",
       "      <td>0</td>\n",
       "      <td>0</td>\n",
       "      <td>0</td>\n",
       "      <td>4</td>\n",
       "      <td>m</td>\n",
       "      <td>White European</td>\n",
       "      <td>1</td>\n",
       "      <td>0</td>\n",
       "      <td>family member</td>\n",
       "      <td>1</td>\n",
       "      <td>3</td>\n",
       "    </tr>\n",
       "    <tr>\n",
       "      <th>2</th>\n",
       "      <td>3</td>\n",
       "      <td>1</td>\n",
       "      <td>0</td>\n",
       "      <td>0</td>\n",
       "      <td>0</td>\n",
       "      <td>0</td>\n",
       "      <td>0</td>\n",
       "      <td>1</td>\n",
       "      <td>1</td>\n",
       "      <td>0</td>\n",
       "      <td>1</td>\n",
       "      <td>4</td>\n",
       "      <td>m</td>\n",
       "      <td>middle eastern</td>\n",
       "      <td>1</td>\n",
       "      <td>0</td>\n",
       "      <td>family member</td>\n",
       "      <td>1</td>\n",
       "      <td>3</td>\n",
       "    </tr>\n",
       "    <tr>\n",
       "      <th>3</th>\n",
       "      <td>4</td>\n",
       "      <td>1</td>\n",
       "      <td>1</td>\n",
       "      <td>1</td>\n",
       "      <td>1</td>\n",
       "      <td>1</td>\n",
       "      <td>1</td>\n",
       "      <td>1</td>\n",
       "      <td>1</td>\n",
       "      <td>1</td>\n",
       "      <td>1</td>\n",
       "      <td>10</td>\n",
       "      <td>m</td>\n",
       "      <td>Hispanic</td>\n",
       "      <td>0</td>\n",
       "      <td>0</td>\n",
       "      <td>family member</td>\n",
       "      <td>1</td>\n",
       "      <td>2</td>\n",
       "    </tr>\n",
       "    <tr>\n",
       "      <th>4</th>\n",
       "      <td>5</td>\n",
       "      <td>1</td>\n",
       "      <td>1</td>\n",
       "      <td>0</td>\n",
       "      <td>1</td>\n",
       "      <td>1</td>\n",
       "      <td>1</td>\n",
       "      <td>1</td>\n",
       "      <td>1</td>\n",
       "      <td>1</td>\n",
       "      <td>1</td>\n",
       "      <td>9</td>\n",
       "      <td>f</td>\n",
       "      <td>White European</td>\n",
       "      <td>0</td>\n",
       "      <td>1</td>\n",
       "      <td>family member</td>\n",
       "      <td>1</td>\n",
       "      <td>1</td>\n",
       "    </tr>\n",
       "  </tbody>\n",
       "</table>\n",
       "</div>"
      ],
      "text/plain": [
       "   Case_No  A1  A2  A3  A4  A5  A6  A7  A8  A9  A10  Qchat-10-Score Sex  \\\n",
       "0        1   0   0   0   0   0   0   1   1   0    1               3   f   \n",
       "1        2   1   1   0   0   0   1   1   0   0    0               4   m   \n",
       "2        3   1   0   0   0   0   0   1   1   0    1               4   m   \n",
       "3        4   1   1   1   1   1   1   1   1   1    1              10   m   \n",
       "4        5   1   1   0   1   1   1   1   1   1    1               9   f   \n",
       "\n",
       "        Ethnicity  Jaundice  Family_mem_with_ASD Who completed the test  \\\n",
       "0  middle eastern         1                    0          family member   \n",
       "1  White European         1                    0          family member   \n",
       "2  middle eastern         1                    0          family member   \n",
       "3        Hispanic         0                    0          family member   \n",
       "4  White European         0                    1          family member   \n",
       "\n",
       "   Class/ASD Traits   Age  \n",
       "0                  0    2  \n",
       "1                  1    3  \n",
       "2                  1    3  \n",
       "3                  1    2  \n",
       "4                  1    1  "
      ]
     },
     "execution_count": 22,
     "metadata": {},
     "output_type": "execute_result"
    }
   ],
   "source": [
    "df.head()"
   ]
  },
  {
   "cell_type": "markdown",
   "metadata": {},
   "source": [
    "ENCODING CATEGORICAL COLUMNS"
   ]
  },
  {
   "cell_type": "code",
   "execution_count": 23,
   "metadata": {},
   "outputs": [
    {
     "data": {
      "text/plain": [
       "<Axes: xlabel='Class/ASD Traits ', ylabel='Qchat-10-Score'>"
      ]
     },
     "execution_count": 23,
     "metadata": {},
     "output_type": "execute_result"
    },
    {
     "data": {
      "image/png": "[encoded data removed]",
      "text/plain": [
       "<Figure size 640x480 with 1 Axes>"
      ]
     },
     "metadata": {},
     "output_type": "display_data"
    }
   ],
   "source": [
    "sns.boxplot(data=df, x='Class/ASD Traits ', y='Qchat-10-Score')"
   ]
  },
  {
   "cell_type": "markdown",
   "metadata": {},
   "source": [
    "Here we observe that the A1-A10 columns are highly correlated to the target column. Also the Qchat-10-score is a sum of the A1-A10 values so these columns are droppped to avoid multicolinearity"
   ]
  },
  {
   "cell_type": "code",
   "execution_count": 24,
   "metadata": {},
   "outputs": [
    {
     "data": {
      "text/plain": [
       "Index(['Case_No', 'A1', 'A2', 'A3', 'A4', 'A5', 'A6', 'A7', 'A8', 'A9', 'A10',\n",
       "       'Qchat-10-Score', 'Sex', 'Ethnicity', 'Jaundice', 'Family_mem_with_ASD',\n",
       "       'Who completed the test', 'Class/ASD Traits ', 'Age'],\n",
       "      dtype='object')"
      ]
     },
     "execution_count": 24,
     "metadata": {},
     "output_type": "execute_result"
    }
   ],
   "source": [
    "df.columns"
   ]
  },
  {
   "cell_type": "code",
   "execution_count": 25,
   "metadata": {},
   "outputs": [],
   "source": [
    "df.drop(columns=['A1', 'A2', 'A3', 'A4', 'A5', 'A6', 'A7', 'A8', 'A9', 'Qchat-10-Score'], axis=1, inplace=True)"
   ]
  },
  {
   "cell_type": "code",
   "execution_count": 39,
   "metadata": {},
   "outputs": [
    {
     "data": {
      "text/plain": [
       "array(['middle eastern', 'White European', 'Hispanic', 'black', 'asian',\n",
       "       'south asian', 'Native Indian', 'Others', 'Latino', 'mixed',\n",
       "       'Pacifica'], dtype=object)"
      ]
     },
     "execution_count": 39,
     "metadata": {},
     "output_type": "execute_result"
    }
   ],
   "source": [
    "df['Ethnicity'].unique()"
   ]
  },
  {
   "cell_type": "markdown",
   "metadata": {},
   "source": [
    "### **MODEL BUILDING**"
   ]
  },
  {
   "cell_type": "code",
   "execution_count": 27,
   "metadata": {},
   "outputs": [],
   "source": [
    "x = df.drop(columns=['Case_No', 'Class/ASD Traits '], axis=1)\n",
    "y = df['Class/ASD Traits ']\n",
    "\n",
    "X_train, X_test, y_train, y_test = train_test_split(x, y, test_size=0.15, random_state=42)\n",
    "\n",
    "\n",
    "# Identify categorical and numeric columns\n",
    "categorical_cols = x.select_dtypes(include=[\"object\"]).columns\n",
    "numeric_cols = x.select_dtypes(exclude=[\"object\"]).columns\n",
    "\n",
    "# Preprocessor: OHE for categorical, StandardScaler for numeric\n",
    "preprocessor = ColumnTransformer(\n",
    "    transformers=[\n",
    "        (\"cat\", OneHotEncoder(handle_unknown=\"ignore\"), categorical_cols),\n",
    "        (\"num\", StandardScaler(), numeric_cols)\n",
    "    ]\n",
    ")"
   ]
  },
  {
   "cell_type": "code",
   "execution_count": 28,
   "metadata": {},
   "outputs": [
    {
     "name": "stdout",
     "output_type": "stream",
     "text": [
      "x_train shape (895, 7)\n",
      "y_train shape (895,)\n",
      "x_test shape (159, 7)\n",
      "y_test shape (159,)\n"
     ]
    }
   ],
   "source": [
    "print('x_train shape', X_train.shape)\n",
    "print('y_train shape', y_train.shape)\n",
    "print('x_test shape', X_test.shape)\n",
    "print('y_test shape', y_test.shape)"
   ]
  },
  {
   "cell_type": "markdown",
   "metadata": {},
   "source": [
    "### **Random Forest Pipeline and Classifier**"
   ]
  },
  {
   "cell_type": "code",
   "execution_count": 29,
   "metadata": {},
   "outputs": [
    {
     "name": "stdout",
     "output_type": "stream",
     "text": [
      "Random Forest f1_score:  81.97\n",
      "Random Forest precision_score:  90.91\n",
      "Random Forest recall_score:  74.63\n",
      "AUC score 67.31\n"
     ]
    }
   ],
   "source": [
    "rf_pipeline = Pipeline([\n",
    "    (\"preprocessor\", preprocessor),\n",
    "    (\"classifier\", RandomForestClassifier())\n",
    "])\n",
    "\n",
    "rf_pipeline.fit(X_train, y_train)\n",
    "predictions = rf_pipeline.predict(X_test)\n",
    "\n",
    "print('Random Forest f1_score: ', round(metrics.f1_score(predictions, y_test)*100, 2))\n",
    "print('Random Forest precision_score: ', round(metrics.precision_score(predictions, y_test)*100, 2))\n",
    "print('Random Forest recall_score: ', round(metrics.recall_score(predictions, y_test)*100, 2))\n",
    "print('AUC score', round(metrics.roc_auc_score(predictions, y_test)*100, 2))"
   ]
  },
  {
   "cell_type": "markdown",
   "metadata": {},
   "source": [
    "\n",
    "# Observations\n",
    "\n",
    "1. The AUC for the Random Forest Classifier is low, indicating that the dataset is imbalanced.\n",
    "2. Imbalanced datasets are challenging to handle, as the model tends to overfit the majority class.\n",
    "3. Handling imbalanced datasets is a common problem in machine learning, and there are several techniques to address this issue.\n",
    "4. One popular technique is to use class weights or oversampling to balance the dataset.\n",
    "5. Another technique is to use techniques such as SMOTE (Synthetic Minority Over-sampling Technique) or undersampling to balance the dataset.\n",
    "6. Another technique is to use techniques such as cost-sensitive learning or class-weighted loss functions to give more importance to the minority classes.\n",
    "9. Another technique is to use techniques such as re-weighting the samples or changing the evaluation metric to handle imbalanced datasets.\n",
    "10. It is important to evaluate the performance of the model on the unseen data to ensure that the model is not overfitting to the majority class.\n",
    "11. It is also important to consider the ethical implications of using techniques to balance the dataset, as it may lead to biased results.\n",
    "12. It is recommended to analyze the dataset and consider the domain knowledge to handle the imbalanced dataset appropriately.\n"
   ]
  },
  {
   "cell_type": "markdown",
   "metadata": {},
   "source": [
    "### **Handling the Imbalanced Dataset**"
   ]
  },
  {
   "cell_type": "code",
   "execution_count": 30,
   "metadata": {},
   "outputs": [
    {
     "data": {
      "text/plain": [
       "Class/ASD Traits \n",
       "1    618\n",
       "0    277\n",
       "Name: count, dtype: int64"
      ]
     },
     "execution_count": 30,
     "metadata": {},
     "output_type": "execute_result"
    }
   ],
   "source": [
    "y_train.value_counts()"
   ]
  },
  {
   "cell_type": "markdown",
   "metadata": {},
   "source": [
    "The train dataset is imbalanced with the 0 value being the minority class. The dataset will be balanced using the RandomOverSampler"
   ]
  },
  {
   "cell_type": "markdown",
   "metadata": {},
   "source": [
    "#### Reason for using Random Over Sampling\n",
    "Random Over Sampling is a technique used for balancing the dataset because it is a simple and effective way to ensure that both the minority and majority classes have an equal number of instances. This technique is particularly useful when dealing with imbalanced datasets where one class has a significantly larger number of instances compared to the other.\n",
    "\n",
    "Random Over Sampling works by selecting a random sample from the minority class and duplicating it to match the size of the majority class. This helps to increase the representation of the minority class and reduces the bias towards the majority class.\n",
    "\n",
    "By using Random Over Sampling, we can ensure that the model is trained on a balanced dataset, which can lead to better generalization and prevent overfitting to the minority class.\n"
   ]
  },
  {
   "cell_type": "code",
   "execution_count": 31,
   "metadata": {},
   "outputs": [
    {
     "data": {
      "text/plain": [
       "Class/ASD Traits \n",
       "0    618\n",
       "1    618\n",
       "Name: count, dtype: int64"
      ]
     },
     "execution_count": 31,
     "metadata": {},
     "output_type": "execute_result"
    }
   ],
   "source": [
    "# As the data was highly imbalanced we will balance it by adding repetitive rows of minority class.\n",
    "ros = RandomOverSampler(sampling_strategy='minority',random_state=0)\n",
    "sampled_x, sampled_y = ros.fit_resample(X_train,y_train)\n",
    "sampled_y.value_counts()"
   ]
  },
  {
   "cell_type": "markdown",
   "metadata": {},
   "source": [
    "### **Random Forest**"
   ]
  },
  {
   "cell_type": "code",
   "execution_count": 32,
   "metadata": {},
   "outputs": [
    {
     "name": "stdout",
     "output_type": "stream",
     "text": [
      "Random Forest f1_score:  73.33\n",
      "Random Forest precision_score:  70.0\n",
      "Random Forest recall_score:  77.0\n",
      "AUC score 60.53\n"
     ]
    }
   ],
   "source": [
    "rf_pipeline = Pipeline([\n",
    "    (\"preprocessor\", preprocessor),\n",
    "    (\"classifier\", RandomForestClassifier())\n",
    "])\n",
    "\n",
    "rf_pipeline.fit(sampled_x, sampled_y)\n",
    "predictions = rf_pipeline.predict(X_test)\n",
    "\n",
    "print('Random Forest f1_score: ', round(metrics.f1_score(predictions, y_test)*100, 2))\n",
    "print('Random Forest precision_score: ', round(metrics.precision_score(predictions, y_test)*100, 2))\n",
    "print('Random Forest recall_score: ', round(metrics.recall_score(predictions, y_test)*100, 2))\n",
    "print('AUC score', round(metrics.roc_auc_score(predictions, y_test)*100, 2))"
   ]
  },
  {
   "cell_type": "markdown",
   "metadata": {},
   "source": [
    "### **Logistic Regression**"
   ]
  },
  {
   "cell_type": "code",
   "execution_count": 33,
   "metadata": {},
   "outputs": [
    {
     "name": "stdout",
     "output_type": "stream",
     "text": [
      "Logistic Regression f1_score:  64.52\n",
      "Logistic Regression precision_score:  54.55\n",
      "Logistic Regression recall_score:  78.95\n",
      "AUC score 59.35\n"
     ]
    }
   ],
   "source": [
    "log_reg_pipeline = Pipeline([\n",
    "    (\"preprocessor\", preprocessor),\n",
    "    (\"classifier\", LogisticRegression())\n",
    "])\n",
    "\n",
    "log_reg_pipeline.fit(sampled_x, sampled_y)\n",
    "predictions = log_reg_pipeline.predict(X_test)\n",
    "\n",
    "print('Logistic Regression f1_score: ', round(metrics.f1_score(predictions, y_test)*100, 2))\n",
    "print('Logistic Regression precision_score: ', round(metrics.precision_score(predictions, y_test)*100, 2))\n",
    "print('Logistic Regression recall_score: ', round(metrics.recall_score(predictions, y_test)*100, 2))\n",
    "print('AUC score', round(metrics.roc_auc_score(predictions, y_test)*100, 2))"
   ]
  },
  {
   "cell_type": "markdown",
   "metadata": {},
   "source": [
    "### **XGBClassifier**"
   ]
  },
  {
   "cell_type": "code",
   "execution_count": 34,
   "metadata": {},
   "outputs": [
    {
     "name": "stdout",
     "output_type": "stream",
     "text": [
      "XGBoost f1_score:  76.5\n",
      "XGBoost precision_score:  75.45\n",
      "XGBoost recall_score:  77.57\n",
      "AUC score 62.82\n"
     ]
    }
   ],
   "source": [
    "xgb_pipeline = Pipeline([\n",
    "    (\"preprocessor\", preprocessor),\n",
    "    (\"classifier\", XGBClassifier())\n",
    "])\n",
    "\n",
    "xgb_pipeline.fit(sampled_x, sampled_y)\n",
    "predictions = xgb_pipeline.predict(X_test)\n",
    "\n",
    "print('XGBoost f1_score: ', round(metrics.f1_score(predictions, y_test)*100, 2))\n",
    "print('XGBoost precision_score: ', round(metrics.precision_score(predictions, y_test)*100, 2))\n",
    "print('XGBoost recall_score: ', round(metrics.recall_score(predictions, y_test)*100, 2))\n",
    "print('AUC score', round(metrics.roc_auc_score(predictions, y_test)*100, 2))"
   ]
  },
  {
   "cell_type": "markdown",
   "metadata": {},
   "source": [
    "### **Naive Bayes**"
   ]
  },
  {
   "cell_type": "code",
   "execution_count": 35,
   "metadata": {},
   "outputs": [
    {
     "name": "stdout",
     "output_type": "stream",
     "text": [
      "Naive Bayes f1_score:  6.96\n",
      "Naive Bayes precision_score:  3.64\n",
      "Naive Bayes recall_score:  80.0\n",
      "AUC score 55.58\n"
     ]
    }
   ],
   "source": [
    "nb_pipeline = Pipeline([\n",
    "    (\"preprocessor\", preprocessor),\n",
    "    (\"classifier\", GaussianNB())\n",
    "])\n",
    "\n",
    "nb_pipeline.fit(sampled_x, sampled_y)\n",
    "predictions = nb_pipeline.predict(X_test)\n",
    "\n",
    "print('Naive Bayes f1_score: ', round(metrics.f1_score(predictions, y_test)*100, 2))\n",
    "print('Naive Bayes precision_score: ', round(metrics.precision_score(predictions, y_test)*100, 2))\n",
    "print('Naive Bayes recall_score: ', round(metrics.recall_score(predictions, y_test)*100, 2))\n",
    "print('AUC score', round(metrics.roc_auc_score(predictions, y_test)*100, 2))"
   ]
  },
  {
   "cell_type": "markdown",
   "metadata": {},
   "source": [
    "## **Save Models**"
   ]
  },
  {
   "cell_type": "code",
   "execution_count": 37,
   "metadata": {},
   "outputs": [
    {
     "name": "stdout",
     "output_type": "stream",
     "text": [
      "✅ All models saved successfully!\n",
      "✅ Feature information saved!\n",
      "✅ Model performance saved!\n",
      "\n",
      "🚀 Ready to run Streamlit app!\n",
      "Run: streamlit run streamlit_app.py\n"
     ]
    }
   ],
   "source": [
    "from save_models_script import save_your_models\n",
    "\n",
    "# Save all your trained models\n",
    "save_your_models(rf_pipeline, log_reg_pipeline, xgb_pipeline, nb_pipeline, sampled_x)"
   ]
  },
  {
   "cell_type": "markdown",
   "metadata": {},
   "source": [
    "### **HYPERPARAMETER TUNING**"
   ]
  },
  {
   "cell_type": "code",
   "execution_count": 39,
   "metadata": {},
   "outputs": [],
   "source": [
    "from sklearn.model_selection import GridSearchCV"
   ]
  },
  {
   "cell_type": "markdown",
   "metadata": {},
   "source": [
    "### **Logistic Regression**"
   ]
  },
  {
   "cell_type": "code",
   "execution_count": 40,
   "metadata": {},
   "outputs": [
    {
     "name": "stdout",
     "output_type": "stream",
     "text": [
      "Best Hyperparameters: {'C': 0.1, 'penalty': 'l2', 'solver': 'liblinear'}\n",
      "Naive f1_score:  0.8514851485148516\n",
      "Naive precision_score:  0.7818181818181819\n",
      "Naive recall_score:  0.9347826086956522\n",
      "AUC score 0.7882868267358859\n"
     ]
    }
   ],
   "source": [
    "logeg = LogisticRegression()\n",
    "\n",
    "param_grid = {\n",
    "    'penalty': ['l1', 'l2'],\n",
    "    'C': np.logspace(-3, 3, 7),\n",
    "    'solver': ['liblinear', 'saga']\n",
    "}\n",
    "\n",
    "# Use GridSearchCV to find the best hyperparameters\n",
    "grid_search = GridSearchCV(logreg, param_grid, cv=5, scoring='accuracy')\n",
    "grid_search.fit(x_train_scaled, sampled_y)\n",
    "\n",
    "# Display the best hyperparameters\n",
    "print(\"Best Hyperparameters:\", grid_search.best_params_)\n",
    "\n",
    "# Get the best model\n",
    "best_logreg = grid_search.best_estimator_\n",
    "\n",
    "# Evaluate the model on the test set\n",
    "y_pred = best_logreg.predict(x_test_scaled)\n",
    "\n",
    "print('Naive f1_score: ', metrics.f1_score(y_pred, y_test))\n",
    "print('Naive precision_score: ', metrics.precision_score(y_pred, y_test))\n",
    "print('Naive recall_score: ', metrics.recall_score(y_pred, y_test))\n",
    "print('AUC score', metrics.roc_auc_score(y_pred, y_test))"
   ]
  },
  {
   "cell_type": "markdown",
   "metadata": {},
   "source": [
    "> **Tuning the Logistic Regression Model did not have much effect on the model accuracy**"
   ]
  },
  {
   "cell_type": "markdown",
   "metadata": {},
   "source": [
    "### **XGBClassifier**"
   ]
  },
  {
   "cell_type": "code",
   "execution_count": 41,
   "metadata": {},
   "outputs": [
    {
     "name": "stdout",
     "output_type": "stream",
     "text": [
      "Best Hyperparameters: {'colsample_bytree': 0.9, 'learning_rate': 0.1, 'max_depth': 5, 'min_child_weight': 1, 'n_estimators': 100, 'subsample': 0.9}\n",
      "XGB f1_score:  0.8640776699029126\n",
      "XGB precision_score:  0.8090909090909091\n",
      "XGB recall_score:  0.9270833333333334\n",
      "AUC score 0.7968750000000002\n"
     ]
    }
   ],
   "source": [
    "xgb_model = XGBClassifier()\n",
    "\n",
    "# Define the hyperparameters to search\n",
    "param_grid = {\n",
    "    'learning_rate': [0.01, 0.1, 0.2],\n",
    "    'n_estimators': [50, 100, 200],\n",
    "    'max_depth': [3, 4, 5],\n",
    "    'min_child_weight': [1, 3, 5],\n",
    "    'subsample': [0.8, 0.9, 1.0],\n",
    "    'colsample_bytree': [0.8, 0.9, 1.0],\n",
    "}\n",
    "\n",
    "# Create GridSearchCV object\n",
    "grid_search = GridSearchCV(estimator=xgb_model, param_grid=param_grid, scoring='f1', cv=3, n_jobs=-1)\n",
    "\n",
    "# Fit the model to the training data\n",
    "grid_search.fit(x_train_scaled, sampled_y)\n",
    "best_xgb = grid_search.best_estimator_\n",
    "# Print the best hyperparameters\n",
    "print(\"Best Hyperparameters:\", grid_search.best_params_)\n",
    "\n",
    "\n",
    "# Predict on the test set using the best model\n",
    "y_pred = grid_search.predict(x_test_scaled)\n",
    "\n",
    "# Evaluate the model\n",
    "print('XGB f1_score: ', metrics.f1_score(y_pred, y_test))\n",
    "print('XGB precision_score: ', metrics.precision_score(y_pred, y_test))\n",
    "print('XGB recall_score: ', metrics.recall_score(y_pred, y_test))\n",
    "print('AUC score', metrics.roc_auc_score(y_pred, y_test))"
   ]
  },
  {
   "cell_type": "markdown",
   "metadata": {},
   "source": [
    "> **Tuning the XGBClassifier Model increased the AUC_score from 82% to 87%**"
   ]
  },
  {
   "cell_type": "markdown",
   "metadata": {},
   "source": [
    "### **Random Forest**"
   ]
  },
  {
   "cell_type": "code",
   "execution_count": 45,
   "metadata": {},
   "outputs": [
    {
     "name": "stdout",
     "output_type": "stream",
     "text": [
      "Best Hyperparameters: {'max_depth': None, 'max_features': 'log2', 'min_samples_leaf': 1, 'min_samples_split': 2, 'n_estimators': 200}\n",
      "RFC f1_score:  0.8625592417061612\n",
      "RFC precision_score:  0.8272727272727273\n",
      "RFC recall_score:  0.900990099009901\n",
      "AUC score 0.7867019460566747\n"
     ]
    }
   ],
   "source": [
    "rf_model = RandomForestClassifier()\n",
    "\n",
    "# Define the hyperparameter grid to search\n",
    "param_grid = {\n",
    "    'n_estimators': [50, 100, 200, 300],\n",
    "    'max_features': ['auto', 'sqrt', 'log2'],\n",
    "    'max_depth': [None, 10, 20, 30],\n",
    "    'min_samples_split': [2, 5, 10],\n",
    "    'min_samples_leaf': [1, 2, 4]\n",
    "}\n",
    "\n",
    "# Create a RandomizedSearchCV object\n",
    "grid_search = GridSearchCV(\n",
    "    rf_model,\n",
    "    param_grid=param_grid,  \n",
    "    scoring='accuracy',  \n",
    "    cv=5,\n",
    "    n_jobs=-1\n",
    ")\n",
    "\n",
    "grid_search.fit(x_train_scaled, sampled_y)\n",
    "\n",
    "# Get the best hyperparameters found by RandomizedSearchCV\n",
    "best_params = grid_search.best_params_\n",
    "print(\"Best Hyperparameters:\", best_params)\n",
    "\n",
    "# Use the best model to make predictions on the test set\n",
    "y_pred = grid_search.predict(x_test_scaled)\n",
    "\n",
    "# Evaluate the performance of the model\n",
    "print('RFC f1_score: ', metrics.f1_score(y_pred, y_test))\n",
    "print('RFC precision_score: ', metrics.precision_score(y_pred, y_test))\n",
    "print('RFC recall_score: ', metrics.recall_score(y_pred, y_test))\n",
    "print('AUC score', metrics.roc_auc_score(y_pred, y_test))"
   ]
  },
  {
   "cell_type": "markdown",
   "metadata": {},
   "source": [
    "## **PLOTTING THE ROC CURVE**"
   ]
  },
  {
   "cell_type": "code",
   "execution_count": 50,
   "metadata": {},
   "outputs": [
    {
     "data": {
      "text/plain": [
       "<matplotlib.legend.Legend at 0x2c07271b730>"
      ]
     },
     "execution_count": 50,
     "metadata": {},
     "output_type": "execute_result"
    },
    {
     "data": {
      "image/png": "[encoded data removed]",
      "text/plain": [
       "<Figure size 640x480 with 1 Axes>"
      ]
     },
     "metadata": {},
     "output_type": "display_data"
    }
   ],
   "source": [
    "pred_models = [logreg, xgb, rfc, nb_classifier]\n",
    "colors = ['red', 'green', 'blue', 'yellow']\n",
    "\n",
    "for model, color in zip(pred_models, colors):\n",
    "    y_prob = model.predict_proba(x_test)[:, 1]\n",
    "    fpr, tpr, _ = metrics.roc_curve(y_test, y_prob)\n",
    "    roc_auc = metrics.auc(fpr, tpr)\n",
    "    plt.plot(fpr, tpr, label=f'{type(model).__name__} (AUC = {roc_auc:.2f})', linestyle='--', color=color)\n",
    "    \n",
    "plt.legend()"
   ]
  },
  {
   "cell_type": "markdown",
   "metadata": {},
   "source": [
    "Here, we observe that the XGBoost Classifier algorithm performs better on the dataset"
   ]
  },
  {
   "cell_type": "markdown",
   "metadata": {},
   "source": [
    "#### **CONFUSION MATRIX**"
   ]
  },
  {
   "cell_type": "code",
   "execution_count": 60,
   "metadata": {},
   "outputs": [
    {
     "data": {
      "text/plain": [
       "Text(0.5, 1.0, 'Confusion Matrix of the Random forest Predictions')"
      ]
     },
     "execution_count": 60,
     "metadata": {},
     "output_type": "execute_result"
    },
    {
     "data": {
      "image/png": "[encoded data removed]",
      "text/plain": [
       "<Figure size 640x480 with 1 Axes>"
      ]
     },
     "metadata": {},
     "output_type": "display_data"
    }
   ],
   "source": [
    "#Get the confusion matrix\n",
    "cf_matrix = metrics.confusion_matrix(y_test, y_pred)\n",
    "sns.heatmap(cf_matrix, annot=True, fmt='d', cmap='Blues', cbar=False, annot_kws={'size': 14})\n",
    "plt.xlabel('Predicted Labels')\n",
    "plt.ylabel('True Labels')\n",
    "plt.title('Confusion Matrix of the Random forest Predictions')"
   ]
  },
  {
   "cell_type": "markdown",
   "metadata": {},
   "source": [
    "The model would be saved in an pkl file upon further updates"
   ]
  },
  {
   "cell_type": "markdown",
   "metadata": {},
   "source": []
  }
 ],
 "metadata": {
  "kernelspec": {
   "display_name": "Python 3",
   "language": "python",
   "name": "python3"
  },
  "language_info": {
   "codemirror_mode": {
    "name": "ipython",
    "version": 3
   },
   "file_extension": ".py",
   "mimetype": "text/x-python",
   "name": "python",
   "nbconvert_exporter": "python",
   "pygments_lexer": "ipython3",
   "version": "3.11.9"
  }
 },
 "nbformat": 4,
 "nbformat_minor": 2
}
